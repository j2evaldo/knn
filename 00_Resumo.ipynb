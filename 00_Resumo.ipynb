{
 "cells": [
  {
   "cell_type": "markdown",
   "metadata": {},
   "source": [
    "### **PRE PROCESSAMENTO**"
   ]
  },
  {
   "cell_type": "code",
   "execution_count": null,
   "metadata": {},
   "outputs": [],
   "source": [
    "import pandas as pd \n",
    "df = pd.DataFrame()"
   ]
  },
  {
   "cell_type": "code",
   "execution_count": null,
   "metadata": {},
   "outputs": [],
   "source": [
    "def remove_outlier(df):\n",
    "    Q1 = df.quatile(0.25)\n",
    "    Q3 = df.quatile(0.75)\n",
    "    IQ = Q3 - Q1\n",
    "    LI = df < (Q1 - 1.5*IQ)\n",
    "    LS = df > (Q3 + 1.5*IQ)\n",
    "\n",
    "    df_final = df[~(LI | LS)]\n",
    "    return df_final"
   ]
  },
  {
   "cell_type": "code",
   "execution_count": null,
   "metadata": {},
   "outputs": [],
   "source": [
    "# Removendo Outliers de um dataFrame inteiro\n",
    "df_normal = remove_outlier(df)\n",
    "\n",
    "# Se quiser saber a diferença entre um DataFrame e outro:\n",
    "    # Retorna apenas os indices das linhas que contem os outiliers\n",
    "indice_dif = df.index.difference(df_normal.index)"
   ]
  },
  {
   "cell_type": "code",
   "execution_count": null,
   "metadata": {},
   "outputs": [],
   "source": [
    "for i in range(indice_dif, 1):\n",
    "    df.loc[df_dif[i], 'coluna_que_quero'] = media_de_algum_valor"
   ]
  },
  {
   "cell_type": "markdown",
   "metadata": {},
   "source": [
    "### **VERIFICANDO QUANTIDADE DE CLUSTERs**"
   ]
  },
  {
   "cell_type": "code",
   "execution_count": null,
   "metadata": {},
   "outputs": [],
   "source": [
    "# Calculando a quantidade de Clusters com base na Soma dos Quadrados (Cotovelo)\n",
    "def qtd_cluster(df):\n",
    "    wcss = []\n",
    "    for i in range(1, 11):  # Testando de 1 a 10 clusters\n",
    "        kmeans = KMeans(n_clusters=i, random_state=42)  # Adicionando random_state para resultados consistentes\n",
    "        kmeans.fit(df)  \n",
    "        wcss.append(kmeans.inertia_)\n",
    "\n",
    "    # Criando o gráfico do cotovelo\n",
    "    plt.figure(figsize=(10, 5))\n",
    "    plt.plot(range(1, 11), wcss, marker='o', linestyle='--')\n",
    "    plt.title('Método do Cotovelo')\n",
    "    plt.xlabel('Número de Clusters')\n",
    "    plt.ylabel('WCSS (Within-Cluster Sum of Squares)')\n",
    "    plt.show()\n",
    "\n",
    "    return wcss\n",
    "\n",
    "\n",
    "\n",
    "# Função para calcular a quantidade ideal de Clusters para minha base\n",
    "# Soma dos Quadrados é o Vetor anterior \n",
    "def numero_otimo_clusters(wcss):\n",
    "    x1, y1 = 2, wcss[0]\n",
    "    x2, y2 = 20, wcss[len(wcss) - 1]\n",
    "\n",
    "    distancia = []\n",
    "    for i in range(len(wcss)):\n",
    "        x0 = i + 2\n",
    "        y0 = wcss[i]\n",
    "        numerador = abs((y2 - y1) * x0 - (x2 - x1) * y0 + x2 * y1 - y2 * x1)\n",
    "        denominador = math.sqrt((y2 - y1) ** 2 + (x2 - x1) ** 2)\n",
    "        distancia.append(numerador / denominador)\n",
    "    \n",
    "    return distancia.index(max(distancia)) + 2"
   ]
  },
  {
   "cell_type": "code",
   "execution_count": null,
   "metadata": {},
   "outputs": [],
   "source": [
    "def quantidade_exata(wcss):\n",
    "    x1, y1 = 1, wcss[0]\n",
    "    x2, y2 = len(wcss), wcss[-1]\n",
    "    \n",
    "    print(f\"x1, y1: {x1}, {y1}\")\n",
    "    print(f\"x2, y2: {x2}, {y2}\")\n",
    "    \n",
    "    distancia = []\n",
    "    for i in range(len(wcss)):\n",
    "        x0 = i + 1\n",
    "        y0 = wcss[i]\n",
    "        numerador = abs((y2 - y1) * x0 - (x2 - x1) * y0 + x2 * y1 - y2 * x1)\n",
    "        denominador = math.sqrt((y2 - y1) ** 2 + (x2 - x1) ** 2)\n",
    "        \n",
    "        print(f\"x0, y0: {x0}, {y0}\")\n",
    "        print(f\"numerador: {numerador}, denominador: {denominador}\")\n",
    "        \n",
    "        if denominador == 0:\n",
    "            print(\"Denominador é zero, ajuste necessário!\")\n",
    "            continue\n",
    "        \n",
    "        distancia.append(numerador / denominador)\n",
    "    \n",
    "    print(f\"Distâncias calculadas: {distancia}\")\n",
    "    return distancia.index(max(distancia)) + 1"
   ]
  },
  {
   "cell_type": "markdown",
   "metadata": {},
   "source": [
    "### **CRIANDO KLUSTER**"
   ]
  },
  {
   "cell_type": "code",
   "execution_count": null,
   "metadata": {},
   "outputs": [],
   "source": [
    "kmenas= KMeans(n_clusters=5, max_iter=10000, init='random')\n",
    "df_usuario['RecenciaCluster'] = kmenas.fit_predict(df_recencia)\n",
    "df_usuario.head()"
   ]
  },
  {
   "cell_type": "markdown",
   "metadata": {},
   "source": [
    "### **ORDENAÇÃO DO CLUSTER**"
   ]
  },
  {
   "cell_type": "code",
   "execution_count": null,
   "metadata": {},
   "outputs": [],
   "source": [
    "# cluster_name = Nome do Cluster que vai para a tabela final\n",
    "# Terget = Coluna que vou usar para calcular o valor me´dio que servirá de referencia para ordenalção dos dados\n",
    "# DataFrame onde os dados serão salvos\n",
    "\n",
    "def ordenar_cluster(cluster_name, target, df):\n",
    "    agrupado_por_cluster = df.groupby(cluster_name)[target].mean().reset_index()\n",
    "    agrupado_por_cluster_ordenado = agrupado_por_cluster.sort_values(by=target, ascending=True).reset_index(drop=True)\n",
    "    agrupado_por_cluster_ordenado['index'] = agrupado_por_cluster_ordenado.index\n",
    "    juntando_cluster = pd.merge(df, agrupado_por_cluster_ordenado[[cluster_name, 'index']], on = cluster_name)\n",
    "    removendo_dados = juntando_cluster.drop([cluster_name], axis=1)\n",
    "    df_final = removendo_dados.rename(columns={'index':cluster_name})\n",
    "    return df_final\n",
    "    \n",
    "    "
   ]
  },
  {
   "cell_type": "markdown",
   "metadata": {},
   "source": [
    "### **VISUALIZAÇÃO DOS CLUSTERS**"
   ]
  },
  {
   "cell_type": "code",
   "execution_count": null,
   "metadata": {},
   "outputs": [],
   "source": [
    "# Cuidar a ordenação para ver se ela veio de forma correta\n",
    "def plot_segmento(x, y, data):\n",
    "    sns.set()  # Configura o estilo do gráfico\n",
    "    plt.figure(figsize=(7, 5))  # Define o tamanho da figura\n",
    "    sns.scatterplot(x=x, y=y, hue='Segmento', data=data, \n",
    "                    size='Segmento', sizes=(50, 150), \n",
    "                    size_order=['Premium', 'Master', 'Busines', 'Inativo'], \n",
    "                    palette='crest')  # Define a paleta de cores\n",
    "\n",
    "    plt.show()  # Exibe o gráfico\n",
    "    "
   ]
  },
  {
   "cell_type": "markdown",
   "metadata": {},
   "source": [
    "## **DOCUMENTACAO**"
   ]
  },
  {
   "cell_type": "markdown",
   "metadata": {},
   "source": [
    "class sklearn.cluster.KMeans(n_clusters=8, *, init='k-means++', n_init='auto', max_iter=300, tol=0.0001, verbose=0, random_state=None, copy_x=True, algorithm='lloyd')[source]\n",
    "K-Means clustering.\n",
    "\n",
    "Read more in the User Guide.\n",
    "\n",
    "Parameters:\n",
    "n_clustersint, default=8\n",
    "The number of clusters to form as well as the number of centroids to generate.\n",
    "\n",
    "For an example of how to choose an optimal value for n_clusters refer to Selecting the number of clusters with silhouette analysis on KMeans clustering.\n",
    "\n",
    "init{‘k-means++’, ‘random’}, callable or array-like of shape (n_clusters, n_features), default=’k-means++’\n",
    "Method for initialization:\n",
    "\n",
    "‘k-means++’ : selects initial cluster centroids using sampling based on an empirical probability distribution of the points’ contribution to the overall inertia. This technique speeds up convergence. The algorithm implemented is “greedy k-means++”. It differs from the vanilla k-means++ by making several trials at each sampling step and choosing the best centroid among them.\n",
    "\n",
    "‘random’: choose n_clusters observations (rows) at random from data for the initial centroids.\n",
    "\n",
    "If an array is passed, it should be of shape (n_clusters, n_features) and gives the initial centers.\n",
    "\n",
    "If a callable is passed, it should take arguments X, n_clusters and a random state and return an initialization.\n",
    "\n",
    "For an example of how to use the different init strategy, see the example entitled A demo of K-Means clustering on the handwritten digits data.\n",
    "\n",
    "n_init‘auto’ or int, default=’auto’\n",
    "Number of times the k-means algorithm is run with different centroid seeds. The final results is the best output of n_init consecutive runs in terms of inertia. Several runs are recommended for sparse high-dimensional problems (see Clustering sparse data with k-means).\n",
    "\n",
    "When n_init='auto', the number of runs depends on the value of init: 10 if using init='random' or init is a callable; 1 if using init='k-means++' or init is an array-like.\n",
    "\n",
    "Added in version 1.2: Added ‘auto’ option for n_init.\n",
    "\n",
    "Changed in version 1.4: Default value for n_init changed to 'auto'.\n",
    "\n",
    "max_iterint, default=300\n",
    "Maximum number of iterations of the k-means algorithm for a single run.\n",
    "\n",
    "tolfloat, default=1e-4\n",
    "Relative tolerance with regards to Frobenius norm of the difference in the cluster centers of two consecutive iterations to declare convergence.\n",
    "\n",
    "verboseint, default=0\n",
    "Verbosity mode.\n",
    "\n",
    "random_stateint, RandomState instance or None, default=None\n",
    "Determines random number generation for centroid initialization. Use an int to make the randomness deterministic. See Glossary.\n",
    "\n",
    "copy_xbool, default=True\n",
    "When pre-computing distances it is more numerically accurate to center the data first. If copy_x is True (default), then the original data is not modified. If False, the original data is modified, and put back before the function returns, but small numerical differences may be introduced by subtracting and then adding the data mean. Note that if the original data is not C-contiguous, a copy will be made even if copy_x is False. If the original data is sparse, but not in CSR format, a copy will be made even if copy_x is False.\n",
    "\n",
    "algorithm{“lloyd”, “elkan”}, default=”lloyd”\n",
    "K-means algorithm to use. The classical EM-style algorithm is \"lloyd\". The \"elkan\" variation can be more efficient on some datasets with well-defined clusters, by using the triangle inequality. However it’s more memory intensive due to the allocation of an extra array of shape (n_samples, n_clusters).\n",
    "\n"
   ]
  },
  {
   "cell_type": "markdown",
   "metadata": {},
   "source": []
  }
 ],
 "metadata": {
  "kernelspec": {
   "display_name": "base",
   "language": "python",
   "name": "python3"
  },
  "language_info": {
   "codemirror_mode": {
    "name": "ipython",
    "version": 3
   },
   "file_extension": ".py",
   "mimetype": "text/x-python",
   "name": "python",
   "nbconvert_exporter": "python",
   "pygments_lexer": "ipython3",
   "version": "3.12.4"
  }
 },
 "nbformat": 4,
 "nbformat_minor": 2
}
