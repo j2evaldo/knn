{
 "cells": [
  {
   "cell_type": "markdown",
   "metadata": {},
   "source": [
    "### **PRE PROCESSAMENTO**"
   ]
  },
  {
   "cell_type": "code",
   "execution_count": null,
   "metadata": {},
   "outputs": [],
   "source": [
    "import pandas as pd \n",
    "df = pd.DataFrame()"
   ]
  },
  {
   "cell_type": "code",
   "execution_count": null,
   "metadata": {},
   "outputs": [],
   "source": [
    "def remove_outlier(df):\n",
    "    Q1 = df.quatile(0.25)\n",
    "    Q3 = df.quatile(0.75)\n",
    "    IQ = Q3 - Q1\n",
    "    LI = df < (Q1 - 1.5*IQ)\n",
    "    LS = df > (Q3 + 1.5*IQ)\n",
    "\n",
    "    df_final = df[~(LI | LS)]\n",
    "    return df_final"
   ]
  },
  {
   "cell_type": "code",
   "execution_count": null,
   "metadata": {},
   "outputs": [],
   "source": [
    "# Removendo Outliers de um dataFrame inteiro\n",
    "df_normal = remove_outlier(df)\n",
    "\n",
    "# Se quiser saber a diferença entre um DataFrame e outro:\n",
    "    # Retorna apenas os indices das linhas que contem os outiliers\n",
    "indice_dif = df.index.difference(df_normal.index)"
   ]
  },
  {
   "cell_type": "code",
   "execution_count": null,
   "metadata": {},
   "outputs": [],
   "source": [
    "for i in range(indice_dif, 1):\n",
    "    df.loc[df_dif[i], 'coluna_que_quero'] = media_de_algum_valor"
   ]
  },
  {
   "cell_type": "markdown",
   "metadata": {},
   "source": [
    "### **VERIFICANDO QUANTIDADE DE CLUSTERs**"
   ]
  },
  {
   "cell_type": "code",
   "execution_count": null,
   "metadata": {},
   "outputs": [],
   "source": [
    "# Calculando a quantidade de Clusters com base na Soma dos Quadrados (Cotovelo)\n",
    "def qtd_cluster(df):\n",
    "    wcss = []\n",
    "    for i in range(1, 10):\n",
    "        kmeans = KMeans(n_clusters=i)\n",
    "        kmeans.fit(df)  \n",
    "        wcss.append(kmeans.inertia_)\n",
    "    return wcss\n",
    "\n",
    "\n",
    "\n",
    "# Função para calcular a quantidade ideal de Clusters para minha base\n",
    "# Soma dos Quadrados é o Vetor anterior \n",
    "def numero_otimo_clusters(wcss):\n",
    "    x1, y1 = 2, wcss[0]\n",
    "    x2, y2 = 20, wcss[len(wcss) - 1]\n",
    "\n",
    "    distancia = []\n",
    "    for i in range(len(wcss)):\n",
    "        x0 = i + 2\n",
    "        y0 = wcss[i]\n",
    "        numerador = abs((y2 - y1) * x0 - (x2 - x1) * y0 + x2 * y1 - y2 * x1)\n",
    "        denominador = math.sqrt((y2 - y1) ** 2 + (x2 - x1) ** 2)\n",
    "        distancia.append(numerador / denominador)\n",
    "    \n",
    "    return distancia.index(max(distancia)) + 2"
   ]
  },
  {
   "cell_type": "markdown",
   "metadata": {},
   "source": [
    "### **CRIANDO KLUSTER**"
   ]
  },
  {
   "cell_type": "code",
   "execution_count": null,
   "metadata": {},
   "outputs": [],
   "source": [
    "kmenas= KMeans(n_clusters=4)\n",
    "df_usuario['RecenciaCluster'] = kmenas.fit_predict(df_recencia)\n",
    "df_usuario.head()"
   ]
  },
  {
   "cell_type": "markdown",
   "metadata": {},
   "source": [
    "### **ORDENAÇÃO DO CLUSTER**"
   ]
  },
  {
   "cell_type": "code",
   "execution_count": null,
   "metadata": {},
   "outputs": [],
   "source": [
    "# Cuidar a ordenação para ver se ela veio de forma correta\n",
    "def ordena_cluster(nome_cluster, alvo, df, ordem):\n",
    "    agrupado_por_cluster = df.groupby(nome_cluster)['Recencia'].mean().reset_index()\n",
    "    agrupado_por_cluster_ordenado = agrupado_por_cluster.sort_values(by='Recencia', ascending=ordem).reset_index(drop=True)\n",
    "    agrupado_por_cluster_ordenado['index'] = agrupado_por_cluster_ordenado.index\n",
    "    juntando_cluster = pd.merge(df, agrupado_por_cluster_ordenado[[nome_cluster, 'index']], on = nome_cluster)\n",
    "    removendo_dados = juntando_cluster.drop(nome_cluster, axis=1)\n",
    "    df_final = removendo_dados.rename(columns={'index':nome_cluster})\n",
    "    \n",
    "    return df_final\n",
    "    "
   ]
  },
  {
   "cell_type": "markdown",
   "metadata": {},
   "source": [
    "### **VISUALIZAÇÃO DOS CLUSTERS**"
   ]
  },
  {
   "cell_type": "code",
   "execution_count": null,
   "metadata": {},
   "outputs": [],
   "source": [
    "# Cuidar a ordenação para ver se ela veio de forma correta\n",
    "def plot_segmento(x, y, data):\n",
    "    sns.set()  # Configura o estilo do gráfico\n",
    "    plt.figure(figsize=(7, 5))  # Define o tamanho da figura\n",
    "    sns.scatterplot(x=x, y=y, hue='Segmento', data=data, \n",
    "                    size='Segmento', sizes=(50, 150), \n",
    "                    size_order=['Premium', 'Master', 'Busines', 'Inativo'], \n",
    "                    palette='crest')  # Define a paleta de cores\n",
    "\n",
    "    plt.show()  # Exibe o gráfico\n",
    "    "
   ]
  }
 ],
 "metadata": {
  "kernelspec": {
   "display_name": "base",
   "language": "python",
   "name": "python3"
  },
  "language_info": {
   "codemirror_mode": {
    "name": "ipython",
    "version": 3
   },
   "file_extension": ".py",
   "mimetype": "text/x-python",
   "name": "python",
   "nbconvert_exporter": "python",
   "pygments_lexer": "ipython3",
   "version": "3.12.4"
  }
 },
 "nbformat": 4,
 "nbformat_minor": 2
}
